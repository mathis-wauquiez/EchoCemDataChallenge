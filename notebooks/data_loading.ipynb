{
 "cells": [
  {
   "cell_type": "markdown",
   "metadata": {},
   "source": [
    "# Data related tasks"
   ]
  },
  {
   "cell_type": "markdown",
   "metadata": {},
   "source": [
    "This notebook is a toy example for loading the raw data, processing it to a dataset, saving it, and loading it again through the module."
   ]
  },
  {
   "cell_type": "code",
   "execution_count": 1,
   "metadata": {},
   "outputs": [],
   "source": [
    "import sys\n",
    "import os\n",
    "from pathlib import Path\n",
    "\n",
    "import pandas as pd\n",
    "import numpy as np\n",
    "import matplotlib.pyplot as plt\n",
    "\n",
    "sys.path.append(os.path.abspath(\"../src\"))\n",
    "# We change the working directory to the root of the project\n",
    "# Run this only once\n",
    "root_path = Path.cwd().parent\n",
    "os.chdir(root_path)\n",
    "sys.path.append(root_path / \"src\")\n"
   ]
  },
  {
   "cell_type": "code",
   "execution_count": 2,
   "metadata": {},
   "outputs": [],
   "source": [
    "from echocem.data.data import CemDataset\n",
    "from echocem.data.utils import get_raw_annotations_and_image\n",
    "\n",
    "data_save_path = root_path / \"data/processed/X_train/\"\n",
    "images_path = root_path / \"data/raw/X_train/images/\""
   ]
  },
  {
   "cell_type": "markdown",
   "metadata": {},
   "source": [
    "## How much data do we have?\n",
    "\n",
    "And how is it organized?"
   ]
  },
  {
   "cell_type": "code",
   "execution_count": 19,
   "metadata": {},
   "outputs": [
    {
     "name": "stdout",
     "output_type": "stream",
     "text": [
      "Nombre de puits: 6\n",
      "\n",
      "Puits Section  Nombre de Patchs\n",
      "    1       0                37\n",
      "    1       1                37\n",
      "    1       2                37\n",
      "    1       3                37\n",
      "    1       4                37\n",
      "    1       5                37\n",
      "    1       6                37\n",
      "    1       7                37\n",
      "    1       8                37\n",
      "    1       9                37\n",
      "    1      10                37\n",
      "    1      11                37\n",
      "    1      12                37\n",
      "    1      13                37\n",
      "    1      14                37\n",
      "    1      15                37\n",
      "    1      16                37\n",
      "    1      17                37\n",
      "    2       0                32\n",
      "    2       1                32\n",
      "    2       2                32\n",
      "    2       3                32\n",
      "    2       4                32\n",
      "    2       5                32\n",
      "    2       6                32\n",
      "    2       7                32\n",
      "    2       8                32\n",
      "    2       9                32\n",
      "    2      10                32\n",
      "    2      11                32\n",
      "    2      12                32\n",
      "    2      13                32\n",
      "    2      14                32\n",
      "    2      15                32\n",
      "    2      16                32\n",
      "    2      17                32\n",
      "    2      18                32\n",
      "    2      19                32\n",
      "    2      20                32\n",
      "    2      21                32\n",
      "    2      22                32\n",
      "    2      23                32\n",
      "    2      24                32\n",
      "    2      25                32\n",
      "    2      26                32\n",
      "    2      27                32\n",
      "    2      28                32\n",
      "    2      29                32\n",
      "    2      30                32\n",
      "    2      31                32\n",
      "    2      32                32\n",
      "    2      33                32\n",
      "    2      34                32\n",
      "    2      35                32\n",
      "    3       0                27\n",
      "    3       1                27\n",
      "    3       2                27\n",
      "    3       3                27\n",
      "    3       4                27\n",
      "    3       5                27\n",
      "    3       6                27\n",
      "    3       7                27\n",
      "    3       8                27\n",
      "    3       9                27\n",
      "    3      10                27\n",
      "    3      11                27\n",
      "    3      12                27\n",
      "    3      13                27\n",
      "    3      14                27\n",
      "    3      15                27\n",
      "    3      16                27\n",
      "    3      17                27\n",
      "    4       0                11\n",
      "    4       1                11\n",
      "    4       2                11\n",
      "    4       3                11\n",
      "    4       4                11\n",
      "    4       5                11\n",
      "    4       6                11\n",
      "    4       7                11\n",
      "    4       8                11\n",
      "    4       9                11\n",
      "    4      10                11\n",
      "    4      11                11\n",
      "    4      12                11\n",
      "    4      13                11\n",
      "    4      14                11\n",
      "    4      15                11\n",
      "    4      16                11\n",
      "    4      17                11\n",
      "    5       0                16\n",
      "    5       1                16\n",
      "    5       2                16\n",
      "    5       3                16\n",
      "    5       4                16\n",
      "    5       5                16\n",
      "    5       6                16\n",
      "    5       7                16\n",
      "    5       8                16\n",
      "    5       9                16\n",
      "    5      10                16\n",
      "    5      11                16\n",
      "    5      12                16\n",
      "    5      13                16\n",
      "    5      14                16\n",
      "    5      15                16\n",
      "    5      16                16\n",
      "    5      17                16\n",
      "    6       0                90\n",
      "    6       1                90\n",
      "    6       2                90\n",
      "    6       3                90\n",
      "    6       4                90\n",
      "    6       5                90\n",
      "    6       6                90\n",
      "    6       7                90\n",
      "    6       8                90\n",
      "    6       9                90\n",
      "    6      10                90\n",
      "    6      11                90\n",
      "    6      12                90\n",
      "    6      13                90\n",
      "    6      14                90\n",
      "    6      15                90\n",
      "    6      16                90\n",
      "    6      17                90\n"
     ]
    }
   ],
   "source": [
    "filenames = os.listdir(images_path) # well_n_section_l_patch_m.npy\n",
    "organized_content = {}\n",
    "for filename in filenames:\n",
    "    _, well, _, l, _, m = filename.split(\"_\")\n",
    "    m = m.split(\".\")[0]\n",
    "    if well not in organized_content.keys():\n",
    "        organized_content[well] = {}\n",
    "    if l not in organized_content[well].keys():\n",
    "        organized_content[well][l] = 0\n",
    "    organized_content[well][l] += 1      \n",
    "\n",
    "\n",
    "data = []\n",
    "for puits, sections in sorted(organized_content.items(), key=lambda x: int(x[0])):\n",
    "    for section in sorted(sections, key=lambda x: int(x)):\n",
    "        data.append([puits, section, sections[section]])\n",
    "\n",
    "df = pd.DataFrame(data, columns=[\"Puits\", \"Section\", \"Nombre de Patchs\"])\n",
    "print(f'Nombre de puits: {len(organized_content)}\\n')\n",
    "print(df.to_string(index=False))\n"
   ]
  },
  {
   "cell_type": "markdown",
   "metadata": {},
   "source": [
    "Loading the annotations:"
   ]
  },
  {
   "cell_type": "code",
   "execution_count": 4,
   "metadata": {},
   "outputs": [],
   "source": [
    "y_table = y = pd.read_csv(root_path / \"data/raw/Y_train.csv\", index_col=0)"
   ]
  },
  {
   "cell_type": "markdown",
   "metadata": {},
   "source": [
    "An example of (annotation, data) pair:"
   ]
  },
  {
   "cell_type": "code",
   "execution_count": 37,
   "metadata": {},
   "outputs": [],
   "source": [
    "filename = \"well_1_section_2_patch_0.npy\"\n",
    "example_annotation, example_image = get_raw_annotations_and_image(y_table, images_path, filename=filename)\n",
    "\n",
    "fig, ax = plt.subplots(1, 2, figsize=(10, 5))\n",
    "ax[0].imshow(example_annotation, cmap=\"gray\")\n",
    "plt.colorbar(ax[1].imshow(example_image, cmap=\"gray\"), ax=ax[1])\n",
    "ax[0].set_title(\"Annotation\")\n",
    "ax[1].set_title(\"Image\")\n",
    "plt.tight_layout()\n",
    "fig.suptitle(f\"Example of annotation and image for the file {filename}\")\n",
    "plt.tight_layout()\n",
    "plt.show()"
   ]
  },
  {
   "cell_type": "markdown",
   "metadata": {},
   "source": [
    "### Reprocessing the dataset"
   ]
  },
  {
   "cell_type": "code",
   "execution_count": 17,
   "metadata": {},
   "outputs": [
    {
     "name": "stdout",
     "output_type": "stream",
     "text": [
      "Processing well 1 section 0\n",
      "Processing well 1 section 1\n",
      "Processing well 1 section 10\n",
      "Processing well 1 section 11\n",
      "Processing well 1 section 12\n",
      "Processing well 1 section 13\n",
      "Processing well 1 section 14\n",
      "Processing well 1 section 15\n",
      "Processing well 1 section 16\n",
      "Processing well 1 section 17\n",
      "Processing well 1 section 2\n",
      "Processing well 1 section 3\n",
      "Processing well 1 section 4\n",
      "Processing well 1 section 5\n",
      "Processing well 1 section 6\n",
      "Processing well 1 section 7\n",
      "Processing well 1 section 8\n",
      "Processing well 1 section 9\n",
      "Processing well 2 section 0\n",
      "Processing well 2 section 1\n",
      "Processing well 2 section 10\n",
      "Processing well 2 section 11\n",
      "Processing well 2 section 12\n",
      "Processing well 2 section 13\n",
      "Processing well 2 section 14\n",
      "Processing well 2 section 15\n",
      "Processing well 2 section 16\n",
      "Processing well 2 section 17\n",
      "Processing well 2 section 18\n",
      "Processing well 2 section 19\n",
      "Processing well 2 section 2\n",
      "Processing well 2 section 20\n",
      "Processing well 2 section 21\n",
      "Processing well 2 section 22\n",
      "Processing well 2 section 23\n",
      "Processing well 2 section 24\n",
      "Processing well 2 section 25\n",
      "Processing well 2 section 26\n",
      "Processing well 2 section 27\n",
      "Processing well 2 section 28\n",
      "Processing well 2 section 29\n",
      "Processing well 2 section 3\n",
      "Processing well 2 section 30\n",
      "Processing well 2 section 31\n",
      "Processing well 2 section 32\n",
      "Processing well 2 section 33\n",
      "Processing well 2 section 34\n",
      "Processing well 2 section 35\n",
      "Processing well 2 section 4\n",
      "Processing well 2 section 5\n",
      "Processing well 2 section 6\n",
      "Processing well 2 section 7\n",
      "Processing well 2 section 8\n",
      "Processing well 2 section 9\n",
      "Processing well 3 section 0\n",
      "Processing well 3 section 1\n",
      "Processing well 3 section 10\n",
      "Processing well 3 section 11\n",
      "Processing well 3 section 12\n",
      "Processing well 3 section 13\n",
      "Processing well 3 section 14\n",
      "Processing well 3 section 15\n",
      "Processing well 3 section 16\n",
      "Processing well 3 section 17\n",
      "Processing well 3 section 2\n",
      "Processing well 3 section 3\n",
      "Processing well 3 section 4\n",
      "Processing well 3 section 5\n",
      "Processing well 3 section 6\n",
      "Processing well 3 section 7\n",
      "Processing well 3 section 8\n",
      "Processing well 3 section 9\n",
      "Processing well 4 section 0\n",
      "Processing well 4 section 1\n",
      "Processing well 4 section 10\n",
      "Processing well 4 section 11\n",
      "Processing well 4 section 12\n",
      "Processing well 4 section 13\n",
      "Processing well 4 section 14\n",
      "Processing well 4 section 15\n",
      "Processing well 4 section 16\n",
      "Processing well 4 section 17\n",
      "Processing well 4 section 2\n",
      "Processing well 4 section 3\n",
      "Processing well 4 section 4\n",
      "Processing well 4 section 5\n",
      "Processing well 4 section 6\n",
      "Processing well 4 section 7\n",
      "Processing well 4 section 8\n",
      "Processing well 4 section 9\n",
      "Processing well 5 section 0\n",
      "Processing well 5 section 1\n",
      "Processing well 5 section 10\n",
      "Processing well 5 section 11\n",
      "Processing well 5 section 12\n",
      "Processing well 5 section 13\n",
      "Processing well 5 section 14\n",
      "Processing well 5 section 15\n",
      "Processing well 5 section 16\n",
      "Processing well 5 section 17\n",
      "Processing well 5 section 2\n",
      "Processing well 5 section 3\n",
      "Processing well 5 section 4\n",
      "Processing well 5 section 5\n",
      "Processing well 5 section 6\n",
      "Processing well 5 section 7\n",
      "Processing well 5 section 8\n",
      "Processing well 5 section 9\n",
      "Processing well 6 section 0\n",
      "Processing well 6 section 1\n",
      "Processing well 6 section 10\n",
      "Processing well 6 section 11\n",
      "Processing well 6 section 12\n",
      "Processing well 6 section 13\n",
      "Processing well 6 section 14\n",
      "Processing well 6 section 15\n",
      "Processing well 6 section 16\n",
      "Processing well 6 section 17\n",
      "Processing well 6 section 2\n",
      "Processing well 6 section 3\n",
      "Processing well 6 section 4\n",
      "Processing well 6 section 5\n",
      "Processing well 6 section 6\n",
      "Processing well 6 section 7\n",
      "Processing well 6 section 8\n",
      "Processing well 6 section 9\n"
     ]
    }
   ],
   "source": [
    "file_information = {\n",
    "    'well': [],\n",
    "    'section': [],\n",
    "    'files': []\n",
    "}\n",
    "\n",
    "for file in filenames:\n",
    "    _, well, _, l, _, m = file.split(\"_\")\n",
    "    m = m.split(\".\")[0]\n",
    "    file_information['well'].append(well)\n",
    "    file_information['section'].append(l)\n",
    "    file_information['files'].append(file)\n",
    "\n",
    "df = pd.DataFrame(file_information)\n",
    "\n",
    "# group by well and section\n",
    "df = df.groupby(['well', 'section']).agg({'files': list}).reset_index()\n",
    "\n",
    "for index, row in df.iterrows():\n",
    "    well = row['well']\n",
    "    section = row['section']\n",
    "    files = row['files']\n",
    "    files = sorted(files, key=lambda x: int(x.split(\"_\")[-1].split(\".\")[0]))\n",
    "    print(f\"Processing well {well} section {section}\")\n",
    "    # get the data and the image for each file\n",
    "    y_and_x = [get_raw_annotations_and_image(y_table, images_path, filename=file) for file in files]\n",
    "    # concatenate the data and the images\n",
    "    ys = np.concatenate([y for y, _ in y_and_x], axis=0)\n",
    "    xs = np.concatenate([x for _, x in y_and_x], axis=0)\n",
    "    # save the data and the images\n",
    "    os.makedirs(data_save_path / \"annotations\", exist_ok=True)\n",
    "    os.makedirs(data_save_path / \"images\", exist_ok=True)\n",
    "    np.save(data_save_path / f\"annotations/{well}_{section}.npy\", ys)\n",
    "    np.save(data_save_path / f\"images/{well}_{section}.npy\", xs)"
   ]
  },
  {
   "cell_type": "markdown",
   "metadata": {},
   "source": [
    "### Loading the processed data"
   ]
  },
  {
   "cell_type": "code",
   "execution_count": 30,
   "metadata": {},
   "outputs": [
    {
     "name": "stdout",
     "output_type": "stream",
     "text": [
      "(1760, 160)\n"
     ]
    },
    {
     "data": {
      "image/png": "[encoded data removed]",
      "text/plain": [
       "<Figure size 640x480 with 1 Axes>"
      ]
     },
     "metadata": {},
     "output_type": "display_data"
    }
   ],
   "source": [
    "# try to load the data\n",
    "data = np.load(data_save_path / \"images/4_5.npy\")\n",
    "print(data.shape)\n",
    "plt.imshow(data.T)\n",
    "plt.show()"
   ]
  },
  {
   "cell_type": "code",
   "execution_count": 50,
   "metadata": {},
   "outputs": [
    {
     "name": "stdout",
     "output_type": "stream",
     "text": [
      "Mean: -0.2745382931759886, std: 28.799882604526953\n"
     ]
    }
   ],
   "source": [
    "# Compute the mean and std of the training set\n",
    "mean = 0\n",
    "std = 0\n",
    "n_files = 0\n",
    "for file in (data_save_path / \"images/\").iterdir():\n",
    "    if int(file.name.split('_')[0]) in [3, 4]:\n",
    "        continue\n",
    "    data = np.load(file)\n",
    "    mean += np.mean(data)\n",
    "    std += data.std() ** 2\n",
    "    n_files += 1\n",
    "\n",
    "mean /= n_files\n",
    "std /= n_files\n",
    "std = np.sqrt(std)\n",
    "print(f\"Mean: {mean}, std: {std}\")"
   ]
  },
  {
   "cell_type": "code",
   "execution_count": 51,
   "metadata": {},
   "outputs": [],
   "source": [
    "dataset = CemDataset(images_path=data_save_path / \"images/\", annotations_path=data_save_path / \"annotations/\", excluded_wells=[2, 3, 4])\n",
    "from torch.utils.data import DataLoader\n",
    "dataloader = DataLoader(dataset, batch_size=16, shuffle=True)\n",
    "batch = next(iter(dataloader))"
   ]
  },
  {
   "cell_type": "code",
   "execution_count": 3,
   "metadata": {},
   "outputs": [
    {
     "name": "stdout",
     "output_type": "stream",
     "text": [
      "Preloading data into memory...\n"
     ]
    }
   ],
   "source": [
    "from hydra.utils import instantiate\n",
    "from omegaconf import OmegaConf\n",
    "# load the configuration file\n",
    "cfg = OmegaConf.load(\"src/echocem/conf/data.yaml\")\n",
    "# instantiate the dataset\n",
    "dataloader = instantiate(cfg.dataloader)"
   ]
  },
  {
   "cell_type": "code",
   "execution_count": 5,
   "metadata": {},
   "outputs": [
    {
     "data": {
      "text/plain": [
       "(tensor(0.9751), tensor(6.6396e-05))"
      ]
     },
     "execution_count": 5,
     "metadata": {},
     "output_type": "execute_result"
    }
   ],
   "source": [
    "b1 = next(iter(dataloader))[0]\n",
    "b1.std(), b1.mean()"
   ]
  }
 ],
 "metadata": {
  "kernelspec": {
   "display_name": "ProjetTunnel",
   "language": "python",
   "name": "python3"
  },
  "language_info": {
   "codemirror_mode": {
    "name": "ipython",
    "version": 3
   },
   "file_extension": ".py",
   "mimetype": "text/x-python",
   "name": "python",
   "nbconvert_exporter": "python",
   "pygments_lexer": "ipython3",
   "version": "3.8.19"
  }
 },
 "nbformat": 4,
 "nbformat_minor": 2
}
