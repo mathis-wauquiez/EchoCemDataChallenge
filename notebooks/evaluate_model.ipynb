{
 "cells": [
  {
   "cell_type": "code",
   "execution_count": 1,
   "metadata": {},
   "outputs": [],
   "source": [
    "import sys\n",
    "import os\n",
    "from pathlib import Path\n",
    "\n",
    "import pandas as pd\n",
    "import numpy as np\n",
    "import matplotlib.pyplot as plt\n",
    "\n",
    "sys.path.append(os.path.abspath(\"../src\"))\n",
    "# We change the working directory to the root of the project\n",
    "# Run this only once\n",
    "root_path = Path.cwd().parent\n",
    "os.chdir(root_path)\n",
    "sys.path.append(root_path / \"src\")"
   ]
  },
  {
   "cell_type": "code",
   "execution_count": 2,
   "metadata": {},
   "outputs": [
    {
     "name": "stdout",
     "output_type": "stream",
     "text": [
      "Preloading data into memory...\n"
     ]
    }
   ],
   "source": [
    "from hydra.utils import instantiate\n",
    "from omegaconf import OmegaConf\n",
    "\n",
    "# load the configuration file for the data\n",
    "cfg = OmegaConf.load(\"src/echocem/conf/data.yaml\")\n",
    "dataloader = instantiate(cfg.validation_dataloader)\n",
    "# load the configuration file for the model\n",
    "cfg = OmegaConf.load(\"src/echocem/conf/model.yaml\")\n",
    "model = instantiate(cfg.model)"
   ]
  },
  {
   "cell_type": "code",
   "execution_count": 4,
   "metadata": {},
   "outputs": [
    {
     "data": {
      "application/vnd.jupyter.widget-view+json": {
       "model_id": "b6fd1a9c11a649e085edf90140e77a39",
       "version_major": 2,
       "version_minor": 0
      },
      "text/plain": [
       "Output()"
      ]
     },
     "metadata": {},
     "output_type": "display_data"
    },
    {
     "data": {
      "text/html": [
       "<pre style=\"white-space:pre;overflow-x:auto;line-height:normal;font-family:Menlo,'DejaVu Sans Mono',consolas,'Courier New',monospace\">torch.Size([128, 160, 272]) torch.Size([128, 160, 272])\n",
       "</pre>\n"
      ],
      "text/plain": [
       "torch.Size([128, 160, 272]) torch.Size([128, 160, 272])\n"
      ]
     },
     "metadata": {},
     "output_type": "display_data"
    },
    {
     "data": {
      "text/html": [
       "<pre style=\"white-space:pre;overflow-x:auto;line-height:normal;font-family:Menlo,'DejaVu Sans Mono',consolas,'Courier New',monospace\">torch.Size([128, 160, 272]) torch.Size([128, 160, 272])\n",
       "</pre>\n"
      ],
      "text/plain": [
       "torch.Size([128, 160, 272]) torch.Size([128, 160, 272])\n"
      ]
     },
     "metadata": {},
     "output_type": "display_data"
    },
    {
     "data": {
      "text/html": [
       "<pre style=\"white-space:pre;overflow-x:auto;line-height:normal;font-family:Menlo,'DejaVu Sans Mono',consolas,'Courier New',monospace\">torch.Size([128, 160, 272]) torch.Size([128, 160, 272])\n",
       "</pre>\n"
      ],
      "text/plain": [
       "torch.Size([128, 160, 272]) torch.Size([128, 160, 272])\n"
      ]
     },
     "metadata": {},
     "output_type": "display_data"
    },
    {
     "data": {
      "text/html": [
       "<pre style=\"white-space:pre;overflow-x:auto;line-height:normal;font-family:Menlo,'DejaVu Sans Mono',consolas,'Courier New',monospace\">torch.Size([128, 160, 272]) torch.Size([128, 160, 272])\n",
       "</pre>\n"
      ],
      "text/plain": [
       "torch.Size([128, 160, 272]) torch.Size([128, 160, 272])\n"
      ]
     },
     "metadata": {},
     "output_type": "display_data"
    },
    {
     "data": {
      "text/html": [
       "<pre style=\"white-space:pre;overflow-x:auto;line-height:normal;font-family:Menlo,'DejaVu Sans Mono',consolas,'Courier New',monospace\">torch.Size([128, 160, 272]) torch.Size([128, 160, 272])\n",
       "</pre>\n"
      ],
      "text/plain": [
       "torch.Size([128, 160, 272]) torch.Size([128, 160, 272])\n"
      ]
     },
     "metadata": {},
     "output_type": "display_data"
    },
    {
     "data": {
      "text/html": [
       "<pre style=\"white-space:pre;overflow-x:auto;line-height:normal;font-family:Menlo,'DejaVu Sans Mono',consolas,'Courier New',monospace\">torch.Size([128, 160, 272]) torch.Size([128, 160, 272])\n",
       "</pre>\n"
      ],
      "text/plain": [
       "torch.Size([128, 160, 272]) torch.Size([128, 160, 272])\n"
      ]
     },
     "metadata": {},
     "output_type": "display_data"
    },
    {
     "data": {
      "text/html": [
       "<pre style=\"white-space:pre;overflow-x:auto;line-height:normal;font-family:Menlo,'DejaVu Sans Mono',consolas,'Courier New',monospace\">torch.Size([128, 160, 272]) torch.Size([128, 160, 272])\n",
       "</pre>\n"
      ],
      "text/plain": [
       "torch.Size([128, 160, 272]) torch.Size([128, 160, 272])\n"
      ]
     },
     "metadata": {},
     "output_type": "display_data"
    },
    {
     "data": {
      "text/html": [
       "<pre style=\"white-space:pre;overflow-x:auto;line-height:normal;font-family:Menlo,'DejaVu Sans Mono',consolas,'Courier New',monospace\">torch.Size([128, 160, 272]) torch.Size([128, 160, 272])\n",
       "</pre>\n"
      ],
      "text/plain": [
       "torch.Size([128, 160, 272]) torch.Size([128, 160, 272])\n"
      ]
     },
     "metadata": {},
     "output_type": "display_data"
    },
    {
     "data": {
      "text/html": [
       "<pre style=\"white-space:pre;overflow-x:auto;line-height:normal;font-family:Menlo,'DejaVu Sans Mono',consolas,'Courier New',monospace\">torch.Size([128, 160, 272]) torch.Size([128, 160, 272])\n",
       "</pre>\n"
      ],
      "text/plain": [
       "torch.Size([128, 160, 272]) torch.Size([128, 160, 272])\n"
      ]
     },
     "metadata": {},
     "output_type": "display_data"
    },
    {
     "data": {
      "text/html": [
       "<pre style=\"white-space:pre;overflow-x:auto;line-height:normal;font-family:Menlo,'DejaVu Sans Mono',consolas,'Courier New',monospace\">torch.Size([128, 160, 272]) torch.Size([128, 160, 272])\n",
       "</pre>\n"
      ],
      "text/plain": [
       "torch.Size([128, 160, 272]) torch.Size([128, 160, 272])\n"
      ]
     },
     "metadata": {},
     "output_type": "display_data"
    },
    {
     "data": {
      "text/html": [
       "<pre style=\"white-space:pre;overflow-x:auto;line-height:normal;font-family:Menlo,'DejaVu Sans Mono',consolas,'Courier New',monospace\">torch.Size([128, 160, 272]) torch.Size([128, 160, 272])\n",
       "</pre>\n"
      ],
      "text/plain": [
       "torch.Size([128, 160, 272]) torch.Size([128, 160, 272])\n"
      ]
     },
     "metadata": {},
     "output_type": "display_data"
    },
    {
     "data": {
      "text/html": [
       "<pre style=\"white-space:pre;overflow-x:auto;line-height:normal;font-family:Menlo,'DejaVu Sans Mono',consolas,'Courier New',monospace\">torch.Size([128, 160, 272]) torch.Size([128, 160, 272])\n",
       "</pre>\n"
      ],
      "text/plain": [
       "torch.Size([128, 160, 272]) torch.Size([128, 160, 272])\n"
      ]
     },
     "metadata": {},
     "output_type": "display_data"
    },
    {
     "data": {
      "text/html": [
       "<pre style=\"white-space:pre;overflow-x:auto;line-height:normal;font-family:Menlo,'DejaVu Sans Mono',consolas,'Courier New',monospace\">torch.Size([128, 160, 272]) torch.Size([128, 160, 272])\n",
       "</pre>\n"
      ],
      "text/plain": [
       "torch.Size([128, 160, 272]) torch.Size([128, 160, 272])\n"
      ]
     },
     "metadata": {},
     "output_type": "display_data"
    },
    {
     "data": {
      "text/html": [
       "<pre style=\"white-space:pre;overflow-x:auto;line-height:normal;font-family:Menlo,'DejaVu Sans Mono',consolas,'Courier New',monospace\">torch.Size([128, 160, 272]) torch.Size([128, 160, 272])\n",
       "</pre>\n"
      ],
      "text/plain": [
       "torch.Size([128, 160, 272]) torch.Size([128, 160, 272])\n"
      ]
     },
     "metadata": {},
     "output_type": "display_data"
    },
    {
     "data": {
      "text/html": [
       "<pre style=\"white-space:pre;overflow-x:auto;line-height:normal;font-family:Menlo,'DejaVu Sans Mono',consolas,'Courier New',monospace\">torch.Size([128, 160, 272]) torch.Size([128, 160, 272])\n",
       "</pre>\n"
      ],
      "text/plain": [
       "torch.Size([128, 160, 272]) torch.Size([128, 160, 272])\n"
      ]
     },
     "metadata": {},
     "output_type": "display_data"
    },
    {
     "data": {
      "text/html": [
       "<pre style=\"white-space:pre;overflow-x:auto;line-height:normal;font-family:Menlo,'DejaVu Sans Mono',consolas,'Courier New',monospace\">torch.Size([128, 160, 272]) torch.Size([128, 160, 272])\n",
       "</pre>\n"
      ],
      "text/plain": [
       "torch.Size([128, 160, 272]) torch.Size([128, 160, 272])\n"
      ]
     },
     "metadata": {},
     "output_type": "display_data"
    },
    {
     "data": {
      "text/html": [
       "<pre style=\"white-space:pre;overflow-x:auto;line-height:normal;font-family:Menlo,'DejaVu Sans Mono',consolas,'Courier New',monospace\">torch.Size([128, 160, 272]) torch.Size([128, 160, 272])\n",
       "</pre>\n"
      ],
      "text/plain": [
       "torch.Size([128, 160, 272]) torch.Size([128, 160, 272])\n"
      ]
     },
     "metadata": {},
     "output_type": "display_data"
    },
    {
     "data": {
      "text/html": [
       "<pre style=\"white-space:pre;overflow-x:auto;line-height:normal;font-family:Menlo,'DejaVu Sans Mono',consolas,'Courier New',monospace\">torch.Size([128, 160, 272]) torch.Size([128, 160, 272])\n",
       "</pre>\n"
      ],
      "text/plain": [
       "torch.Size([128, 160, 272]) torch.Size([128, 160, 272])\n"
      ]
     },
     "metadata": {},
     "output_type": "display_data"
    },
    {
     "data": {
      "text/html": [
       "<pre style=\"white-space:pre;overflow-x:auto;line-height:normal;font-family:Menlo,'DejaVu Sans Mono',consolas,'Courier New',monospace\">torch.Size([128, 160, 272]) torch.Size([128, 160, 272])\n",
       "</pre>\n"
      ],
      "text/plain": [
       "torch.Size([128, 160, 272]) torch.Size([128, 160, 272])\n"
      ]
     },
     "metadata": {},
     "output_type": "display_data"
    },
    {
     "data": {
      "text/html": [
       "<pre style=\"white-space:pre;overflow-x:auto;line-height:normal;font-family:Menlo,'DejaVu Sans Mono',consolas,'Courier New',monospace\">torch.Size([128, 160, 272]) torch.Size([128, 160, 272])\n",
       "</pre>\n"
      ],
      "text/plain": [
       "torch.Size([128, 160, 272]) torch.Size([128, 160, 272])\n"
      ]
     },
     "metadata": {},
     "output_type": "display_data"
    },
    {
     "data": {
      "text/html": [
       "<pre style=\"white-space:pre;overflow-x:auto;line-height:normal;font-family:Menlo,'DejaVu Sans Mono',consolas,'Courier New',monospace\">torch.Size([128, 160, 272]) torch.Size([128, 160, 272])\n",
       "</pre>\n"
      ],
      "text/plain": [
       "torch.Size([128, 160, 272]) torch.Size([128, 160, 272])\n"
      ]
     },
     "metadata": {},
     "output_type": "display_data"
    },
    {
     "data": {
      "text/html": [
       "<pre style=\"white-space:pre;overflow-x:auto;line-height:normal;font-family:Menlo,'DejaVu Sans Mono',consolas,'Courier New',monospace\">torch.Size([128, 160, 272]) torch.Size([128, 160, 272])\n",
       "</pre>\n"
      ],
      "text/plain": [
       "torch.Size([128, 160, 272]) torch.Size([128, 160, 272])\n"
      ]
     },
     "metadata": {},
     "output_type": "display_data"
    },
    {
     "data": {
      "text/html": [
       "<pre style=\"white-space:pre;overflow-x:auto;line-height:normal;font-family:Menlo,'DejaVu Sans Mono',consolas,'Courier New',monospace\">torch.Size([128, 160, 272]) torch.Size([128, 160, 272])\n",
       "</pre>\n"
      ],
      "text/plain": [
       "torch.Size([128, 160, 272]) torch.Size([128, 160, 272])\n"
      ]
     },
     "metadata": {},
     "output_type": "display_data"
    },
    {
     "data": {
      "text/html": [
       "<pre style=\"white-space:pre;overflow-x:auto;line-height:normal;font-family:Menlo,'DejaVu Sans Mono',consolas,'Courier New',monospace\">torch.Size([128, 160, 272]) torch.Size([128, 160, 272])\n",
       "</pre>\n"
      ],
      "text/plain": [
       "torch.Size([128, 160, 272]) torch.Size([128, 160, 272])\n"
      ]
     },
     "metadata": {},
     "output_type": "display_data"
    },
    {
     "data": {
      "text/html": [
       "<pre style=\"white-space:pre;overflow-x:auto;line-height:normal;font-family:Menlo,'DejaVu Sans Mono',consolas,'Courier New',monospace\">torch.Size([128, 160, 272]) torch.Size([128, 160, 272])\n",
       "</pre>\n"
      ],
      "text/plain": [
       "torch.Size([128, 160, 272]) torch.Size([128, 160, 272])\n"
      ]
     },
     "metadata": {},
     "output_type": "display_data"
    },
    {
     "data": {
      "text/html": [
       "<pre style=\"white-space:pre;overflow-x:auto;line-height:normal;font-family:Menlo,'DejaVu Sans Mono',consolas,'Courier New',monospace\">torch.Size([128, 160, 272]) torch.Size([128, 160, 272])\n",
       "</pre>\n"
      ],
      "text/plain": [
       "torch.Size([128, 160, 272]) torch.Size([128, 160, 272])\n"
      ]
     },
     "metadata": {},
     "output_type": "display_data"
    },
    {
     "data": {
      "text/html": [
       "<pre style=\"white-space:pre;overflow-x:auto;line-height:normal;font-family:Menlo,'DejaVu Sans Mono',consolas,'Courier New',monospace\">torch.Size([128, 160, 272]) torch.Size([128, 160, 272])\n",
       "</pre>\n"
      ],
      "text/plain": [
       "torch.Size([128, 160, 272]) torch.Size([128, 160, 272])\n"
      ]
     },
     "metadata": {},
     "output_type": "display_data"
    },
    {
     "data": {
      "text/html": [
       "<pre style=\"white-space:pre;overflow-x:auto;line-height:normal;font-family:Menlo,'DejaVu Sans Mono',consolas,'Courier New',monospace\">torch.Size([128, 160, 272]) torch.Size([128, 160, 272])\n",
       "</pre>\n"
      ],
      "text/plain": [
       "torch.Size([128, 160, 272]) torch.Size([128, 160, 272])\n"
      ]
     },
     "metadata": {},
     "output_type": "display_data"
    },
    {
     "data": {
      "text/html": [
       "<pre style=\"white-space:pre;overflow-x:auto;line-height:normal;font-family:Menlo,'DejaVu Sans Mono',consolas,'Courier New',monospace\">torch.Size([128, 160, 272]) torch.Size([128, 160, 272])\n",
       "</pre>\n"
      ],
      "text/plain": [
       "torch.Size([128, 160, 272]) torch.Size([128, 160, 272])\n"
      ]
     },
     "metadata": {},
     "output_type": "display_data"
    },
    {
     "data": {
      "text/html": [
       "<pre style=\"white-space:pre;overflow-x:auto;line-height:normal;font-family:Menlo,'DejaVu Sans Mono',consolas,'Courier New',monospace\">torch.Size([128, 160, 272]) torch.Size([128, 160, 272])\n",
       "</pre>\n"
      ],
      "text/plain": [
       "torch.Size([128, 160, 272]) torch.Size([128, 160, 272])\n"
      ]
     },
     "metadata": {},
     "output_type": "display_data"
    },
    {
     "data": {
      "text/html": [
       "<pre style=\"white-space:pre;overflow-x:auto;line-height:normal;font-family:Menlo,'DejaVu Sans Mono',consolas,'Courier New',monospace\">torch.Size([128, 160, 272]) torch.Size([128, 160, 272])\n",
       "</pre>\n"
      ],
      "text/plain": [
       "torch.Size([128, 160, 272]) torch.Size([128, 160, 272])\n"
      ]
     },
     "metadata": {},
     "output_type": "display_data"
    },
    {
     "data": {
      "text/html": [
       "<pre style=\"white-space:pre;overflow-x:auto;line-height:normal;font-family:Menlo,'DejaVu Sans Mono',consolas,'Courier New',monospace\">torch.Size([128, 160, 272]) torch.Size([128, 160, 272])\n",
       "</pre>\n"
      ],
      "text/plain": [
       "torch.Size([128, 160, 272]) torch.Size([128, 160, 272])\n"
      ]
     },
     "metadata": {},
     "output_type": "display_data"
    },
    {
     "data": {
      "text/html": [
       "<pre style=\"white-space:pre;overflow-x:auto;line-height:normal;font-family:Menlo,'DejaVu Sans Mono',consolas,'Courier New',monospace\">torch.Size([128, 160, 272]) torch.Size([128, 160, 272])\n",
       "</pre>\n"
      ],
      "text/plain": [
       "torch.Size([128, 160, 272]) torch.Size([128, 160, 272])\n"
      ]
     },
     "metadata": {},
     "output_type": "display_data"
    },
    {
     "data": {
      "text/html": [
       "<pre style=\"white-space:pre;overflow-x:auto;line-height:normal;font-family:Menlo,'DejaVu Sans Mono',consolas,'Courier New',monospace\">torch.Size([128, 160, 272]) torch.Size([128, 160, 272])\n",
       "</pre>\n"
      ],
      "text/plain": [
       "torch.Size([128, 160, 272]) torch.Size([128, 160, 272])\n"
      ]
     },
     "metadata": {},
     "output_type": "display_data"
    },
    {
     "data": {
      "text/html": [
       "<pre style=\"white-space:pre;overflow-x:auto;line-height:normal;font-family:Menlo,'DejaVu Sans Mono',consolas,'Courier New',monospace\">torch.Size([128, 160, 272]) torch.Size([128, 160, 272])\n",
       "</pre>\n"
      ],
      "text/plain": [
       "torch.Size([128, 160, 272]) torch.Size([128, 160, 272])\n"
      ]
     },
     "metadata": {},
     "output_type": "display_data"
    },
    {
     "data": {
      "text/html": [
       "<pre style=\"white-space:pre;overflow-x:auto;line-height:normal;font-family:Menlo,'DejaVu Sans Mono',consolas,'Courier New',monospace\">torch.Size([128, 160, 272]) torch.Size([128, 160, 272])\n",
       "</pre>\n"
      ],
      "text/plain": [
       "torch.Size([128, 160, 272]) torch.Size([128, 160, 272])\n"
      ]
     },
     "metadata": {},
     "output_type": "display_data"
    },
    {
     "data": {
      "text/html": [
       "<pre style=\"white-space:pre;overflow-x:auto;line-height:normal;font-family:Menlo,'DejaVu Sans Mono',consolas,'Courier New',monospace\">torch.Size([128, 160, 272]) torch.Size([128, 160, 272])\n",
       "</pre>\n"
      ],
      "text/plain": [
       "torch.Size([128, 160, 272]) torch.Size([128, 160, 272])\n"
      ]
     },
     "metadata": {},
     "output_type": "display_data"
    },
    {
     "data": {
      "text/html": [
       "<pre style=\"white-space:pre;overflow-x:auto;line-height:normal;font-family:Menlo,'DejaVu Sans Mono',consolas,'Courier New',monospace\">torch.Size([128, 160, 272]) torch.Size([128, 160, 272])\n",
       "</pre>\n"
      ],
      "text/plain": [
       "torch.Size([128, 160, 272]) torch.Size([128, 160, 272])\n"
      ]
     },
     "metadata": {},
     "output_type": "display_data"
    },
    {
     "data": {
      "text/html": [
       "<pre style=\"white-space:pre;overflow-x:auto;line-height:normal;font-family:Menlo,'DejaVu Sans Mono',consolas,'Courier New',monospace\">torch.Size([128, 160, 272]) torch.Size([128, 160, 272])\n",
       "</pre>\n"
      ],
      "text/plain": [
       "torch.Size([128, 160, 272]) torch.Size([128, 160, 272])\n"
      ]
     },
     "metadata": {},
     "output_type": "display_data"
    },
    {
     "data": {
      "text/html": [
       "<pre style=\"white-space:pre;overflow-x:auto;line-height:normal;font-family:Menlo,'DejaVu Sans Mono',consolas,'Courier New',monospace\">torch.Size([128, 160, 272]) torch.Size([128, 160, 272])\n",
       "</pre>\n"
      ],
      "text/plain": [
       "torch.Size([128, 160, 272]) torch.Size([128, 160, 272])\n"
      ]
     },
     "metadata": {},
     "output_type": "display_data"
    },
    {
     "data": {
      "text/html": [
       "<pre style=\"white-space:pre;overflow-x:auto;line-height:normal;font-family:Menlo,'DejaVu Sans Mono',consolas,'Courier New',monospace\">torch.Size([128, 160, 272]) torch.Size([128, 160, 272])\n",
       "</pre>\n"
      ],
      "text/plain": [
       "torch.Size([128, 160, 272]) torch.Size([128, 160, 272])\n"
      ]
     },
     "metadata": {},
     "output_type": "display_data"
    },
    {
     "data": {
      "text/html": [
       "<pre style=\"white-space:pre;overflow-x:auto;line-height:normal;font-family:Menlo,'DejaVu Sans Mono',consolas,'Courier New',monospace\">torch.Size([128, 160, 272]) torch.Size([128, 160, 272])\n",
       "</pre>\n"
      ],
      "text/plain": [
       "torch.Size([128, 160, 272]) torch.Size([128, 160, 272])\n"
      ]
     },
     "metadata": {},
     "output_type": "display_data"
    },
    {
     "data": {
      "text/html": [
       "<pre style=\"white-space:pre;overflow-x:auto;line-height:normal;font-family:Menlo,'DejaVu Sans Mono',consolas,'Courier New',monospace\">torch.Size([128, 160, 272]) torch.Size([128, 160, 272])\n",
       "</pre>\n"
      ],
      "text/plain": [
       "torch.Size([128, 160, 272]) torch.Size([128, 160, 272])\n"
      ]
     },
     "metadata": {},
     "output_type": "display_data"
    },
    {
     "data": {
      "text/html": [
       "<pre style=\"white-space:pre;overflow-x:auto;line-height:normal;font-family:Menlo,'DejaVu Sans Mono',consolas,'Courier New',monospace\">torch.Size([128, 160, 272]) torch.Size([128, 160, 272])\n",
       "</pre>\n"
      ],
      "text/plain": [
       "torch.Size([128, 160, 272]) torch.Size([128, 160, 272])\n"
      ]
     },
     "metadata": {},
     "output_type": "display_data"
    },
    {
     "data": {
      "text/html": [
       "<pre style=\"white-space:pre;overflow-x:auto;line-height:normal;font-family:Menlo,'DejaVu Sans Mono',consolas,'Courier New',monospace\">torch.Size([128, 160, 272]) torch.Size([128, 160, 272])\n",
       "</pre>\n"
      ],
      "text/plain": [
       "torch.Size([128, 160, 272]) torch.Size([128, 160, 272])\n"
      ]
     },
     "metadata": {},
     "output_type": "display_data"
    },
    {
     "data": {
      "text/html": [
       "<pre style=\"white-space:pre;overflow-x:auto;line-height:normal;font-family:Menlo,'DejaVu Sans Mono',consolas,'Courier New',monospace\">torch.Size([128, 160, 272]) torch.Size([128, 160, 272])\n",
       "</pre>\n"
      ],
      "text/plain": [
       "torch.Size([128, 160, 272]) torch.Size([128, 160, 272])\n"
      ]
     },
     "metadata": {},
     "output_type": "display_data"
    },
    {
     "data": {
      "text/html": [
       "<pre style=\"white-space:pre;overflow-x:auto;line-height:normal;font-family:Menlo,'DejaVu Sans Mono',consolas,'Courier New',monospace\">torch.Size([128, 160, 272]) torch.Size([128, 160, 272])\n",
       "</pre>\n"
      ],
      "text/plain": [
       "torch.Size([128, 160, 272]) torch.Size([128, 160, 272])\n"
      ]
     },
     "metadata": {},
     "output_type": "display_data"
    },
    {
     "data": {
      "text/html": [
       "<pre style=\"white-space:pre;overflow-x:auto;line-height:normal;font-family:Menlo,'DejaVu Sans Mono',consolas,'Courier New',monospace\">torch.Size([128, 160, 272]) torch.Size([128, 160, 272])\n",
       "</pre>\n"
      ],
      "text/plain": [
       "torch.Size([128, 160, 272]) torch.Size([128, 160, 272])\n"
      ]
     },
     "metadata": {},
     "output_type": "display_data"
    },
    {
     "data": {
      "text/html": [
       "<pre style=\"white-space:pre;overflow-x:auto;line-height:normal;font-family:Menlo,'DejaVu Sans Mono',consolas,'Courier New',monospace\">torch.Size([128, 160, 272]) torch.Size([128, 160, 272])\n",
       "</pre>\n"
      ],
      "text/plain": [
       "torch.Size([128, 160, 272]) torch.Size([128, 160, 272])\n"
      ]
     },
     "metadata": {},
     "output_type": "display_data"
    },
    {
     "data": {
      "text/html": [
       "<pre style=\"white-space:pre;overflow-x:auto;line-height:normal;font-family:Menlo,'DejaVu Sans Mono',consolas,'Courier New',monospace\">torch.Size([128, 160, 272]) torch.Size([128, 160, 272])\n",
       "</pre>\n"
      ],
      "text/plain": [
       "torch.Size([128, 160, 272]) torch.Size([128, 160, 272])\n"
      ]
     },
     "metadata": {},
     "output_type": "display_data"
    },
    {
     "data": {
      "text/html": [
       "<pre style=\"white-space:pre;overflow-x:auto;line-height:normal;font-family:Menlo,'DejaVu Sans Mono',consolas,'Courier New',monospace\">torch.Size([128, 160, 272]) torch.Size([128, 160, 272])\n",
       "</pre>\n"
      ],
      "text/plain": [
       "torch.Size([128, 160, 272]) torch.Size([128, 160, 272])\n"
      ]
     },
     "metadata": {},
     "output_type": "display_data"
    },
    {
     "data": {
      "text/html": [
       "<pre style=\"white-space:pre;overflow-x:auto;line-height:normal;font-family:Menlo,'DejaVu Sans Mono',consolas,'Courier New',monospace\">torch.Size([128, 160, 272]) torch.Size([128, 160, 272])\n",
       "</pre>\n"
      ],
      "text/plain": [
       "torch.Size([128, 160, 272]) torch.Size([128, 160, 272])\n"
      ]
     },
     "metadata": {},
     "output_type": "display_data"
    },
    {
     "data": {
      "text/html": [
       "<pre style=\"white-space:pre;overflow-x:auto;line-height:normal;font-family:Menlo,'DejaVu Sans Mono',consolas,'Courier New',monospace\">torch.Size([128, 160, 272]) torch.Size([128, 160, 272])\n",
       "</pre>\n"
      ],
      "text/plain": [
       "torch.Size([128, 160, 272]) torch.Size([128, 160, 272])\n"
      ]
     },
     "metadata": {},
     "output_type": "display_data"
    },
    {
     "data": {
      "text/html": [
       "<pre style=\"white-space:pre;overflow-x:auto;line-height:normal;font-family:Menlo,'DejaVu Sans Mono',consolas,'Courier New',monospace\">torch.Size([128, 160, 272]) torch.Size([128, 160, 272])\n",
       "</pre>\n"
      ],
      "text/plain": [
       "torch.Size([128, 160, 272]) torch.Size([128, 160, 272])\n"
      ]
     },
     "metadata": {},
     "output_type": "display_data"
    },
    {
     "data": {
      "text/html": [
       "<pre style=\"white-space:pre;overflow-x:auto;line-height:normal;font-family:Menlo,'DejaVu Sans Mono',consolas,'Courier New',monospace\">torch.Size([128, 160, 272]) torch.Size([128, 160, 272])\n",
       "</pre>\n"
      ],
      "text/plain": [
       "torch.Size([128, 160, 272]) torch.Size([128, 160, 272])\n"
      ]
     },
     "metadata": {},
     "output_type": "display_data"
    },
    {
     "data": {
      "text/html": [
       "<pre style=\"white-space:pre;overflow-x:auto;line-height:normal;font-family:Menlo,'DejaVu Sans Mono',consolas,'Courier New',monospace\">torch.Size([128, 160, 272]) torch.Size([128, 160, 272])\n",
       "</pre>\n"
      ],
      "text/plain": [
       "torch.Size([128, 160, 272]) torch.Size([128, 160, 272])\n"
      ]
     },
     "metadata": {},
     "output_type": "display_data"
    },
    {
     "data": {
      "text/html": [
       "<pre style=\"white-space:pre;overflow-x:auto;line-height:normal;font-family:Menlo,'DejaVu Sans Mono',consolas,'Courier New',monospace\">torch.Size([128, 160, 272]) torch.Size([128, 160, 272])\n",
       "</pre>\n"
      ],
      "text/plain": [
       "torch.Size([128, 160, 272]) torch.Size([128, 160, 272])\n"
      ]
     },
     "metadata": {},
     "output_type": "display_data"
    },
    {
     "data": {
      "text/html": [
       "<pre style=\"white-space:pre;overflow-x:auto;line-height:normal;font-family:Menlo,'DejaVu Sans Mono',consolas,'Courier New',monospace\">torch.Size([128, 160, 272]) torch.Size([128, 160, 272])\n",
       "</pre>\n"
      ],
      "text/plain": [
       "torch.Size([128, 160, 272]) torch.Size([128, 160, 272])\n"
      ]
     },
     "metadata": {},
     "output_type": "display_data"
    },
    {
     "data": {
      "text/html": [
       "<pre style=\"white-space:pre;overflow-x:auto;line-height:normal;font-family:Menlo,'DejaVu Sans Mono',consolas,'Courier New',monospace\">torch.Size([128, 160, 272]) torch.Size([128, 160, 272])\n",
       "</pre>\n"
      ],
      "text/plain": [
       "torch.Size([128, 160, 272]) torch.Size([128, 160, 272])\n"
      ]
     },
     "metadata": {},
     "output_type": "display_data"
    },
    {
     "data": {
      "text/html": [
       "<pre style=\"white-space:pre;overflow-x:auto;line-height:normal;font-family:Menlo,'DejaVu Sans Mono',consolas,'Courier New',monospace\">torch.Size([128, 160, 272]) torch.Size([128, 160, 272])\n",
       "</pre>\n"
      ],
      "text/plain": [
       "torch.Size([128, 160, 272]) torch.Size([128, 160, 272])\n"
      ]
     },
     "metadata": {},
     "output_type": "display_data"
    },
    {
     "data": {
      "text/html": [
       "<pre style=\"white-space:pre;overflow-x:auto;line-height:normal;font-family:Menlo,'DejaVu Sans Mono',consolas,'Courier New',monospace\">torch.Size([128, 160, 272]) torch.Size([128, 160, 272])\n",
       "</pre>\n"
      ],
      "text/plain": [
       "torch.Size([128, 160, 272]) torch.Size([128, 160, 272])\n"
      ]
     },
     "metadata": {},
     "output_type": "display_data"
    },
    {
     "data": {
      "text/html": [
       "<pre style=\"white-space:pre;overflow-x:auto;line-height:normal;font-family:Menlo,'DejaVu Sans Mono',consolas,'Courier New',monospace\">torch.Size([128, 160, 272]) torch.Size([128, 160, 272])\n",
       "</pre>\n"
      ],
      "text/plain": [
       "torch.Size([128, 160, 272]) torch.Size([128, 160, 272])\n"
      ]
     },
     "metadata": {},
     "output_type": "display_data"
    },
    {
     "data": {
      "text/html": [
       "<pre style=\"white-space:pre;overflow-x:auto;line-height:normal;font-family:Menlo,'DejaVu Sans Mono',consolas,'Courier New',monospace\">torch.Size([128, 160, 272]) torch.Size([128, 160, 272])\n",
       "</pre>\n"
      ],
      "text/plain": [
       "torch.Size([128, 160, 272]) torch.Size([128, 160, 272])\n"
      ]
     },
     "metadata": {},
     "output_type": "display_data"
    },
    {
     "data": {
      "text/html": [
       "<pre style=\"white-space:pre;overflow-x:auto;line-height:normal;font-family:Menlo,'DejaVu Sans Mono',consolas,'Courier New',monospace\">torch.Size([128, 160, 272]) torch.Size([128, 160, 272])\n",
       "</pre>\n"
      ],
      "text/plain": [
       "torch.Size([128, 160, 272]) torch.Size([128, 160, 272])\n"
      ]
     },
     "metadata": {},
     "output_type": "display_data"
    },
    {
     "data": {
      "text/html": [
       "<pre style=\"white-space:pre;overflow-x:auto;line-height:normal;font-family:Menlo,'DejaVu Sans Mono',consolas,'Courier New',monospace\">torch.Size([128, 160, 272]) torch.Size([128, 160, 272])\n",
       "</pre>\n"
      ],
      "text/plain": [
       "torch.Size([128, 160, 272]) torch.Size([128, 160, 272])\n"
      ]
     },
     "metadata": {},
     "output_type": "display_data"
    },
    {
     "data": {
      "text/html": [
       "<pre style=\"white-space:pre;overflow-x:auto;line-height:normal;font-family:Menlo,'DejaVu Sans Mono',consolas,'Courier New',monospace\">torch.Size([128, 160, 272]) torch.Size([128, 160, 272])\n",
       "</pre>\n"
      ],
      "text/plain": [
       "torch.Size([128, 160, 272]) torch.Size([128, 160, 272])\n"
      ]
     },
     "metadata": {},
     "output_type": "display_data"
    },
    {
     "data": {
      "text/html": [
       "<pre style=\"white-space:pre;overflow-x:auto;line-height:normal;font-family:Menlo,'DejaVu Sans Mono',consolas,'Courier New',monospace\">torch.Size([128, 160, 272]) torch.Size([128, 160, 272])\n",
       "</pre>\n"
      ],
      "text/plain": [
       "torch.Size([128, 160, 272]) torch.Size([128, 160, 272])\n"
      ]
     },
     "metadata": {},
     "output_type": "display_data"
    },
    {
     "data": {
      "text/html": [
       "<pre style=\"white-space:pre;overflow-x:auto;line-height:normal;font-family:Menlo,'DejaVu Sans Mono',consolas,'Courier New',monospace\">torch.Size([128, 160, 272]) torch.Size([128, 160, 272])\n",
       "</pre>\n"
      ],
      "text/plain": [
       "torch.Size([128, 160, 272]) torch.Size([128, 160, 272])\n"
      ]
     },
     "metadata": {},
     "output_type": "display_data"
    },
    {
     "data": {
      "text/html": [
       "<pre style=\"white-space:pre;overflow-x:auto;line-height:normal;font-family:Menlo,'DejaVu Sans Mono',consolas,'Courier New',monospace\">torch.Size([128, 160, 272]) torch.Size([128, 160, 272])\n",
       "</pre>\n"
      ],
      "text/plain": [
       "torch.Size([128, 160, 272]) torch.Size([128, 160, 272])\n"
      ]
     },
     "metadata": {},
     "output_type": "display_data"
    },
    {
     "data": {
      "text/html": [
       "<pre style=\"white-space:pre;overflow-x:auto;line-height:normal;font-family:Menlo,'DejaVu Sans Mono',consolas,'Courier New',monospace\">torch.Size([128, 160, 272]) torch.Size([128, 160, 272])\n",
       "</pre>\n"
      ],
      "text/plain": [
       "torch.Size([128, 160, 272]) torch.Size([128, 160, 272])\n"
      ]
     },
     "metadata": {},
     "output_type": "display_data"
    },
    {
     "data": {
      "text/html": [
       "<pre style=\"white-space:pre;overflow-x:auto;line-height:normal;font-family:Menlo,'DejaVu Sans Mono',consolas,'Courier New',monospace\">torch.Size([128, 160, 272]) torch.Size([128, 160, 272])\n",
       "</pre>\n"
      ],
      "text/plain": [
       "torch.Size([128, 160, 272]) torch.Size([128, 160, 272])\n"
      ]
     },
     "metadata": {},
     "output_type": "display_data"
    },
    {
     "data": {
      "text/html": [
       "<pre style=\"white-space:pre;overflow-x:auto;line-height:normal;font-family:Menlo,'DejaVu Sans Mono',consolas,'Courier New',monospace\">torch.Size([128, 160, 272]) torch.Size([128, 160, 272])\n",
       "</pre>\n"
      ],
      "text/plain": [
       "torch.Size([128, 160, 272]) torch.Size([128, 160, 272])\n"
      ]
     },
     "metadata": {},
     "output_type": "display_data"
    },
    {
     "data": {
      "text/html": [
       "<pre style=\"white-space:pre;overflow-x:auto;line-height:normal;font-family:Menlo,'DejaVu Sans Mono',consolas,'Courier New',monospace\">torch.Size([128, 160, 272]) torch.Size([128, 160, 272])\n",
       "</pre>\n"
      ],
      "text/plain": [
       "torch.Size([128, 160, 272]) torch.Size([128, 160, 272])\n"
      ]
     },
     "metadata": {},
     "output_type": "display_data"
    },
    {
     "data": {
      "text/html": [
       "<pre style=\"white-space:pre;overflow-x:auto;line-height:normal;font-family:Menlo,'DejaVu Sans Mono',consolas,'Courier New',monospace\">torch.Size([128, 160, 272]) torch.Size([128, 160, 272])\n",
       "</pre>\n"
      ],
      "text/plain": [
       "torch.Size([128, 160, 272]) torch.Size([128, 160, 272])\n"
      ]
     },
     "metadata": {},
     "output_type": "display_data"
    },
    {
     "data": {
      "text/html": [
       "<pre style=\"white-space:pre;overflow-x:auto;line-height:normal;font-family:Menlo,'DejaVu Sans Mono',consolas,'Courier New',monospace\">torch.Size([128, 160, 272]) torch.Size([128, 160, 272])\n",
       "</pre>\n"
      ],
      "text/plain": [
       "torch.Size([128, 160, 272]) torch.Size([128, 160, 272])\n"
      ]
     },
     "metadata": {},
     "output_type": "display_data"
    },
    {
     "data": {
      "text/html": [
       "<pre style=\"white-space:pre;overflow-x:auto;line-height:normal;font-family:Menlo,'DejaVu Sans Mono',consolas,'Courier New',monospace\">torch.Size([128, 160, 272]) torch.Size([128, 160, 272])\n",
       "</pre>\n"
      ],
      "text/plain": [
       "torch.Size([128, 160, 272]) torch.Size([128, 160, 272])\n"
      ]
     },
     "metadata": {},
     "output_type": "display_data"
    },
    {
     "data": {
      "text/html": [
       "<pre style=\"white-space:pre;overflow-x:auto;line-height:normal;font-family:Menlo,'DejaVu Sans Mono',consolas,'Courier New',monospace\">torch.Size([128, 160, 272]) torch.Size([128, 160, 272])\n",
       "</pre>\n"
      ],
      "text/plain": [
       "torch.Size([128, 160, 272]) torch.Size([128, 160, 272])\n"
      ]
     },
     "metadata": {},
     "output_type": "display_data"
    },
    {
     "data": {
      "text/html": [
       "<pre style=\"white-space:pre;overflow-x:auto;line-height:normal;font-family:Menlo,'DejaVu Sans Mono',consolas,'Courier New',monospace\">torch.Size([128, 160, 272]) torch.Size([128, 160, 272])\n",
       "</pre>\n"
      ],
      "text/plain": [
       "torch.Size([128, 160, 272]) torch.Size([128, 160, 272])\n"
      ]
     },
     "metadata": {},
     "output_type": "display_data"
    },
    {
     "data": {
      "text/html": [
       "<pre style=\"white-space:pre;overflow-x:auto;line-height:normal;font-family:Menlo,'DejaVu Sans Mono',consolas,'Courier New',monospace\">torch.Size([128, 160, 272]) torch.Size([128, 160, 272])\n",
       "</pre>\n"
      ],
      "text/plain": [
       "torch.Size([128, 160, 272]) torch.Size([128, 160, 272])\n"
      ]
     },
     "metadata": {},
     "output_type": "display_data"
    },
    {
     "data": {
      "text/html": [
       "<pre style=\"white-space:pre;overflow-x:auto;line-height:normal;font-family:Menlo,'DejaVu Sans Mono',consolas,'Courier New',monospace\">torch.Size([128, 160, 272]) torch.Size([128, 160, 272])\n",
       "</pre>\n"
      ],
      "text/plain": [
       "torch.Size([128, 160, 272]) torch.Size([128, 160, 272])\n"
      ]
     },
     "metadata": {},
     "output_type": "display_data"
    },
    {
     "data": {
      "text/html": [
       "<pre style=\"white-space:pre;overflow-x:auto;line-height:normal;font-family:Menlo,'DejaVu Sans Mono',consolas,'Courier New',monospace\">torch.Size([128, 160, 272]) torch.Size([128, 160, 272])\n",
       "</pre>\n"
      ],
      "text/plain": [
       "torch.Size([128, 160, 272]) torch.Size([128, 160, 272])\n"
      ]
     },
     "metadata": {},
     "output_type": "display_data"
    },
    {
     "data": {
      "text/html": [
       "<pre style=\"white-space:pre;overflow-x:auto;line-height:normal;font-family:Menlo,'DejaVu Sans Mono',consolas,'Courier New',monospace\">torch.Size([128, 160, 272]) torch.Size([128, 160, 272])\n",
       "</pre>\n"
      ],
      "text/plain": [
       "torch.Size([128, 160, 272]) torch.Size([128, 160, 272])\n"
      ]
     },
     "metadata": {},
     "output_type": "display_data"
    },
    {
     "data": {
      "text/html": [
       "<pre style=\"white-space:pre;overflow-x:auto;line-height:normal;font-family:Menlo,'DejaVu Sans Mono',consolas,'Courier New',monospace\">torch.Size([128, 160, 272]) torch.Size([128, 160, 272])\n",
       "</pre>\n"
      ],
      "text/plain": [
       "torch.Size([128, 160, 272]) torch.Size([128, 160, 272])\n"
      ]
     },
     "metadata": {},
     "output_type": "display_data"
    },
    {
     "data": {
      "text/html": [
       "<pre style=\"white-space:pre;overflow-x:auto;line-height:normal;font-family:Menlo,'DejaVu Sans Mono',consolas,'Courier New',monospace\">torch.Size([128, 160, 272]) torch.Size([128, 160, 272])\n",
       "</pre>\n"
      ],
      "text/plain": [
       "torch.Size([128, 160, 272]) torch.Size([128, 160, 272])\n"
      ]
     },
     "metadata": {},
     "output_type": "display_data"
    },
    {
     "data": {
      "text/html": [
       "<pre style=\"white-space:pre;overflow-x:auto;line-height:normal;font-family:Menlo,'DejaVu Sans Mono',consolas,'Courier New',monospace\">torch.Size([128, 160, 272]) torch.Size([128, 160, 272])\n",
       "</pre>\n"
      ],
      "text/plain": [
       "torch.Size([128, 160, 272]) torch.Size([128, 160, 272])\n"
      ]
     },
     "metadata": {},
     "output_type": "display_data"
    },
    {
     "data": {
      "text/html": [
       "<pre style=\"white-space:pre;overflow-x:auto;line-height:normal;font-family:Menlo,'DejaVu Sans Mono',consolas,'Courier New',monospace\">torch.Size([128, 160, 272]) torch.Size([128, 160, 272])\n",
       "</pre>\n"
      ],
      "text/plain": [
       "torch.Size([128, 160, 272]) torch.Size([128, 160, 272])\n"
      ]
     },
     "metadata": {},
     "output_type": "display_data"
    },
    {
     "data": {
      "text/html": [
       "<pre style=\"white-space:pre;overflow-x:auto;line-height:normal;font-family:Menlo,'DejaVu Sans Mono',consolas,'Courier New',monospace\">torch.Size([128, 160, 272]) torch.Size([128, 160, 272])\n",
       "</pre>\n"
      ],
      "text/plain": [
       "torch.Size([128, 160, 272]) torch.Size([128, 160, 272])\n"
      ]
     },
     "metadata": {},
     "output_type": "display_data"
    },
    {
     "data": {
      "text/html": [
       "<pre style=\"white-space:pre;overflow-x:auto;line-height:normal;font-family:Menlo,'DejaVu Sans Mono',consolas,'Courier New',monospace\">torch.Size([14, 160, 272]) torch.Size([14, 160, 272])\n",
       "</pre>\n"
      ],
      "text/plain": [
       "torch.Size([14, 160, 272]) torch.Size([14, 160, 272])\n"
      ]
     },
     "metadata": {},
     "output_type": "display_data"
    },
    {
     "data": {
      "text/html": [
       "<pre style=\"white-space:pre;overflow-x:auto;line-height:normal;font-family:Menlo,'DejaVu Sans Mono',consolas,'Courier New',monospace\">torch.Size([14, 160, 272]) torch.Size([14, 160, 272])\n",
       "</pre>\n"
      ],
      "text/plain": [
       "torch.Size([14, 160, 272]) torch.Size([14, 160, 272])\n"
      ]
     },
     "metadata": {},
     "output_type": "display_data"
    },
    {
     "data": {
      "text/html": [
       "<pre style=\"white-space:pre;overflow-x:auto;line-height:normal;font-family:Menlo,'DejaVu Sans Mono',consolas,'Courier New',monospace\">torch.Size([14, 160, 272]) torch.Size([14, 160, 272])\n",
       "</pre>\n"
      ],
      "text/plain": [
       "torch.Size([14, 160, 272]) torch.Size([14, 160, 272])\n"
      ]
     },
     "metadata": {},
     "output_type": "display_data"
    },
    {
     "data": {
      "text/html": [
       "<pre style=\"white-space:pre;overflow-x:auto;line-height:normal;font-family:Menlo,'DejaVu Sans Mono',consolas,'Courier New',monospace\"></pre>\n"
      ],
      "text/plain": []
     },
     "metadata": {},
     "output_type": "display_data"
    }
   ],
   "source": [
    "from echocem.models.evaluation import iou\n",
    "\n",
    "scores = iou(dataloader, model)"
   ]
  },
  {
   "cell_type": "code",
   "execution_count": 5,
   "metadata": {},
   "outputs": [
    {
     "data": {
      "text/plain": [
       "{'per_class_iou': [1.4625074129526183e-07,\n",
       "  0.08320687711238861,\n",
       "  0.34131452441215515],\n",
       " 'mIoU': 0.14150719344615936}"
      ]
     },
     "execution_count": 5,
     "metadata": {},
     "output_type": "execute_result"
    }
   ],
   "source": [
    "scores"
   ]
  }
 ],
 "metadata": {
  "kernelspec": {
   "display_name": "ProjetTunnel",
   "language": "python",
   "name": "python3"
  },
  "language_info": {
   "codemirror_mode": {
    "name": "ipython",
    "version": 3
   },
   "file_extension": ".py",
   "mimetype": "text/x-python",
   "name": "python",
   "nbconvert_exporter": "python",
   "pygments_lexer": "ipython3",
   "version": "3.8.19"
  }
 },
 "nbformat": 4,
 "nbformat_minor": 2
}
